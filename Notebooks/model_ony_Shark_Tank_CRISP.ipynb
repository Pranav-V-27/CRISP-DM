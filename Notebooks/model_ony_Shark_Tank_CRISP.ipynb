{
  "cells": [
    {
      "cell_type": "code",
      "execution_count": 1,
      "metadata": {
        "id": "itpzk4gC3zrq"
      },
      "outputs": [],
      "source": [
        "import pandas as pd\n",
        "import matplotlib.pyplot as plt\n",
        "import seaborn as sns\n",
        "import numpy as np\n",
        "from babel.numbers import format_currency\n",
        "from wordcloud import WordCloud, STOPWORDS\n",
        "import geopandas as gpd\n",
        "\n",
        "import plotly.express as px\n",
        "import plotly.io as pio\n",
        "pio.templates.default = \"plotly_dark\"\n",
        "pio.renderers.default = 'notebook'"
      ]
    },
    {
      "cell_type": "code",
      "execution_count": 2,
      "metadata": {
        "id": "xyC0MfvMpP2F"
      },
      "outputs": [],
      "source": [
        "import folium"
      ]
    },
    {
      "cell_type": "code",
      "execution_count": 3,
      "metadata": {
        "colab": {
          "base_uri": "https://localhost:8080/"
        },
        "id": "qK3JiJdcpIpF",
        "outputId": "38482d5d-be8d-4c2a-ded6-151d413a0ea1"
      },
      "outputs": [
        {
          "output_type": "stream",
          "name": "stdout",
          "text": [
            "Requirement already satisfied: folium in /usr/local/lib/python3.10/dist-packages (0.14.0)\n",
            "Requirement already satisfied: branca>=0.6.0 in /usr/local/lib/python3.10/dist-packages (from folium) (0.6.0)\n",
            "Requirement already satisfied: jinja2>=2.9 in /usr/local/lib/python3.10/dist-packages (from folium) (3.1.2)\n",
            "Requirement already satisfied: numpy in /usr/local/lib/python3.10/dist-packages (from folium) (1.23.5)\n",
            "Requirement already satisfied: requests in /usr/local/lib/python3.10/dist-packages (from folium) (2.31.0)\n",
            "Requirement already satisfied: MarkupSafe>=2.0 in /usr/local/lib/python3.10/dist-packages (from jinja2>=2.9->folium) (2.1.3)\n",
            "Requirement already satisfied: charset-normalizer<4,>=2 in /usr/local/lib/python3.10/dist-packages (from requests->folium) (3.3.0)\n",
            "Requirement already satisfied: idna<4,>=2.5 in /usr/local/lib/python3.10/dist-packages (from requests->folium) (3.4)\n",
            "Requirement already satisfied: urllib3<3,>=1.21.1 in /usr/local/lib/python3.10/dist-packages (from requests->folium) (2.0.7)\n",
            "Requirement already satisfied: certifi>=2017.4.17 in /usr/local/lib/python3.10/dist-packages (from requests->folium) (2023.7.22)\n"
          ]
        }
      ],
      "source": [
        "!pip install folium"
      ]
    },
    {
      "cell_type": "code",
      "execution_count": 4,
      "metadata": {
        "id": "_PTl9n2L9qO_"
      },
      "outputs": [],
      "source": [
        "data = pd.read_csv('/content/drive/MyDrive/Colab_Files/STData_cleaned')"
      ]
    },
    {
      "cell_type": "code",
      "execution_count": 5,
      "metadata": {
        "colab": {
          "base_uri": "https://localhost:8080/"
        },
        "id": "tphxN_ryiDCm",
        "outputId": "6cd26149-eeb1-4591-c1ec-2dc54fcf2404"
      },
      "outputs": [
        {
          "output_type": "execute_result",
          "data": {
            "text/plain": [
              "(320, 63)"
            ]
          },
          "metadata": {},
          "execution_count": 5
        }
      ],
      "source": [
        "data.shape"
      ]
    },
    {
      "cell_type": "code",
      "execution_count": null,
      "metadata": {
        "id": "yuOc0DYKpcEr"
      },
      "outputs": [],
      "source": [
        "pd.set_option('display.max_columns', 50)\n",
        "pd.set_option('display.max_rows', 200)"
      ]
    },
    {
      "cell_type": "markdown",
      "metadata": {
        "id": "uIqesK540_4E"
      },
      "source": []
    },
    {
      "cell_type": "code",
      "execution_count": 8,
      "metadata": {
        "id": "jOrmGiIhrIBL"
      },
      "outputs": [],
      "source": [
        "import numpy as np\n",
        "from sklearn.ensemble import RandomForestClassifier"
      ]
    },
    {
      "cell_type": "markdown",
      "metadata": {
        "id": "Md4-zjjUFAoW"
      },
      "source": [
        "making a dependent coulumn"
      ]
    },
    {
      "cell_type": "code",
      "execution_count": 9,
      "metadata": {
        "colab": {
          "base_uri": "https://localhost:8080/"
        },
        "id": "GJe9GsMHbcYc",
        "outputId": "0a998b75-b8d5-4833-ff57-3ee62b989d01"
      },
      "outputs": [
        {
          "output_type": "execute_result",
          "data": {
            "text/plain": [
              "(320, 63)"
            ]
          },
          "metadata": {},
          "execution_count": 9
        }
      ],
      "source": [
        "data.shape"
      ]
    },
    {
      "cell_type": "code",
      "execution_count": 10,
      "metadata": {
        "colab": {
          "base_uri": "https://localhost:8080/"
        },
        "id": "tNVryCDaaj9e",
        "outputId": "ff25c0d1-0f06-4fda-c9cc-d9dfcda93c3f"
      },
      "outputs": [
        {
          "output_type": "execute_result",
          "data": {
            "text/plain": [
              "1    176\n",
              "0    144\n",
              "Name: Accepted Offer, dtype: int64"
            ]
          },
          "metadata": {},
          "execution_count": 10
        }
      ],
      "source": [
        "data['Accepted Offer'].value_counts()"
      ]
    },
    {
      "cell_type": "markdown",
      "metadata": {
        "id": "AP5YTMVacBH6"
      },
      "source": [
        "'Accepted Offer' is our target column"
      ]
    },
    {
      "cell_type": "markdown",
      "metadata": {
        "id": "gYKZ8q5bfd9g"
      },
      "source": [
        "finding corelations"
      ]
    },
    {
      "cell_type": "code",
      "execution_count": 11,
      "metadata": {
        "id": "nOkXTJNLjubC",
        "colab": {
          "base_uri": "https://localhost:8080/"
        },
        "outputId": "bf33cb41-ec13-4740-cb37-a25c7b7a0d90"
      },
      "outputs": [
        {
          "output_type": "execute_result",
          "data": {
            "text/plain": [
              "Index(['Unnamed: 0', 'Season Number', 'Season Start', 'Season End',\n",
              "       'Episode Number', 'Episode Title', 'Pitch Number', 'Startup Name',\n",
              "       'Industry', 'Business Description', 'Number of Presenters',\n",
              "       'Male Presenters', 'Female Presenters', 'Transgender Presenters',\n",
              "       'Couple Presenters', 'Pitchers Average Age', 'Started in',\n",
              "       'Pitchers City', 'Pitchers State', 'Yearly Revenue', 'Monthly Sales',\n",
              "       'Gross Margin', 'Net Margin', 'Original Ask Amount',\n",
              "       'Original Offered Equity', 'Valuation Requested', 'Received Offer',\n",
              "       'Accepted Offer', 'Total Deal Amount', 'Total Deal Equity',\n",
              "       'Total Deal Debt', 'Debt Interest', 'Deal Valuation',\n",
              "       'Number of sharks in deal', 'Deal has conditions', 'Has Patents',\n",
              "       'Ashneer Investment Amount', 'Ashneer Investment Equity',\n",
              "       'Ashneer Debt Amount', 'Namita Investment Amount',\n",
              "       'Namita Investment Equity', 'Namita Debt Amount',\n",
              "       'Anupam Investment Amount', 'Anupam Investment Equity',\n",
              "       'Anupam Debt Amount', 'Vineeta Investment Amount',\n",
              "       'Vineeta Investment Equity', 'Vineeta Debt Amount',\n",
              "       'Aman Investment Amount', 'Aman Investment Equity', 'Aman Debt Amount',\n",
              "       'Peyush Investment Amount', 'Peyush Investment Equity',\n",
              "       'Peyush Debt Amount', 'Ghazal Investment Amount',\n",
              "       'Ghazal Investment Equity', 'Ghazal Debt Amount',\n",
              "       'Amit Investment Amount', 'Amit Investment Equity', 'Amit Debt Amount',\n",
              "       'Guest Investment Amount', 'Guest Investment Equity',\n",
              "       'Guest Debt Amount'],\n",
              "      dtype='object')"
            ]
          },
          "metadata": {},
          "execution_count": 11
        }
      ],
      "source": [
        "data.columns"
      ]
    },
    {
      "cell_type": "code",
      "execution_count": 12,
      "metadata": {
        "id": "Okd0e6KPcYZy"
      },
      "outputs": [],
      "source": [
        "data_new = data.drop(columns = ['Season Start', 'Season End', 'Episode Title', 'Business Description', 'Season Number', 'Pitchers City', 'Unnamed: 0', 'Season Number',\n",
        "                      'Episode Number', 'Pitch Number', 'Ashneer Investment Amount', 'Ashneer Investment Equity', 'Ashneer Debt Amount', 'Namita Investment Amount',\n",
        "                      'Namita Investment Equity', 'Namita Debt Amount', 'Anupam Investment Amount', 'Anupam Investment Equity', 'Anupam Debt Amount', 'Vineeta Investment Amount',\n",
        "                      'Vineeta Investment Equity', 'Vineeta Debt Amount', 'Aman Investment Amount', 'Aman Investment Equity', 'Aman Debt Amount', 'Peyush Investment Amount', 'Peyush Investment Equity',\n",
        "                      'Peyush Debt Amount', 'Ghazal Investment Amount', 'Ghazal Investment Equity', 'Ghazal Debt Amount', 'Amit Investment Amount', 'Amit Investment Equity', 'Amit Debt Amount',\n",
        "                      'Guest Investment Amount', 'Guest Investment Equity', 'Guest Debt Amount'])"
      ]
    },
    {
      "cell_type": "code",
      "execution_count": 13,
      "metadata": {
        "id": "rUg9QRedk8DC",
        "colab": {
          "base_uri": "https://localhost:8080/"
        },
        "outputId": "18ebc9f2-4573-4e3e-e1bc-027016006ab5"
      },
      "outputs": [
        {
          "output_type": "execute_result",
          "data": {
            "text/plain": [
              "(320, 27)"
            ]
          },
          "metadata": {},
          "execution_count": 13
        }
      ],
      "source": [
        "data_new.shape"
      ]
    },
    {
      "cell_type": "code",
      "execution_count": 14,
      "metadata": {
        "id": "mdtyhfTFlEiv",
        "colab": {
          "base_uri": "https://localhost:8080/",
          "height": 653
        },
        "outputId": "65734a9b-1071-48f9-8509-a469a4e8a299"
      },
      "outputs": [
        {
          "output_type": "stream",
          "name": "stderr",
          "text": [
            "<ipython-input-14-547bc11d29c3>:5: FutureWarning:\n",
            "\n",
            "The default value of numeric_only in DataFrame.corr is deprecated. In a future version, it will default to False. Select only valid columns or specify the value of numeric_only to silence this warning.\n",
            "\n"
          ]
        },
        {
          "output_type": "display_data",
          "data": {
            "text/plain": [
              "<Figure size 1000x600 with 1 Axes>"
            ],
            "image/png": "[encoded data removed]"
          },
          "metadata": {}
        }
      ],
      "source": [
        "import seaborn as sns\n",
        "import matplotlib.pyplot as plt\n",
        "\n",
        "# Calculate the correlation between \"Accepted Offer\" and other numeric columns\n",
        "correlation_with_target = data_new.corr()['Accepted Offer'].drop('Accepted Offer')\n",
        "\n",
        "# Sort the correlation values in descending order\n",
        "correlation_with_target = correlation_with_target.abs().sort_values(ascending=False)\n",
        "\n",
        "# Create a bar plot to visualize the correlations\n",
        "plt.figure(figsize=(10, 6))\n",
        "sns.barplot(x=correlation_with_target.values, y=correlation_with_target.index, palette='viridis')\n",
        "plt.xlabel('Correlation with Accepted Offer')\n",
        "plt.title('Correlation of Numeric Features with Accepted Offer')\n",
        "\n",
        "# Rotate the y-axis labels (adjust the rotation angle as needed)\n",
        "plt.yticks(size=9)  # Rotate the labels by 45 degrees\n",
        "\n",
        "plt.show()"
      ]
    },
    {
      "cell_type": "code",
      "execution_count": 15,
      "metadata": {
        "id": "2_zZQBMymV6C",
        "colab": {
          "base_uri": "https://localhost:8080/",
          "height": 53
        },
        "outputId": "ae4929fc-3dec-4bc2-bbc9-81f2e894d246"
      },
      "outputs": [
        {
          "output_type": "execute_result",
          "data": {
            "text/plain": [
              "\"# Create a new column 'Region' based on the mapping\\ndata_new['Region'] = data_new['Pitchers State'].map(state_to_region)\\n\\n# Check the distribution of states within each region\\nregion_distribution = data_new['Region'].value_counts()\\n\\n# Display the distribution\\nprint(region_distribution)\\n\""
            ],
            "application/vnd.google.colaboratory.intrinsic+json": {
              "type": "string"
            }
          },
          "metadata": {},
          "execution_count": 15
        }
      ],
      "source": [
        "# Define a dictionary to map states to regions\n",
        "state_to_region = {\n",
        "    'Haryana': 'North',\n",
        "    'Himachal Pradesh': 'North',\n",
        "    'Jammu & Kashmir': 'North',\n",
        "    'Punjab': 'North',\n",
        "    'Rajasthan': 'North',\n",
        "    'Delhi': 'North',\n",
        "    'Chandigarh': 'North',\n",
        "    'Chhattisgarh': 'Central',\n",
        "    'Uttarakhand': 'Central',\n",
        "    'Uttar Pradesh': 'Central',\n",
        "    'Madhya Pradesh': 'Central',\n",
        "    'Bihar': 'East',\n",
        "    'Jharkhand': 'East',\n",
        "    'Orissa': 'East',\n",
        "    'West Bengal': 'East',\n",
        "    'Assam': 'Northeast',\n",
        "    'Arunachal Pradesh': 'Northeast',\n",
        "    'Manipur': 'Northeast',\n",
        "    'Tripura': 'Northeast',\n",
        "    'Mizoram': 'Northeast',\n",
        "    'Meghalaya': 'Northeast',\n",
        "    'Nagaland': 'Northeast',\n",
        "    'Sikkim': 'Northeast',\n",
        "    'Goa': 'West',\n",
        "    'Gujarat': 'West',\n",
        "    'Maharashtra': 'West',\n",
        "    'Daman & Diu': 'West',\n",
        "    'Dadra & Nagar Haveli': 'West',\n",
        "    'Andhra Pradesh': 'South',\n",
        "    'Karnataka': 'South',\n",
        "    'Kerala': 'South',\n",
        "    'Tamil Nadu': 'South',\n",
        "    'Puducherry': 'South',\n",
        "    'Telangana' : 'South'\n",
        "}\n",
        "\n",
        "'''# Create a new column 'Region' based on the mapping\n",
        "data_new['Region'] = data_new['Pitchers State'].map(state_to_region)\n",
        "\n",
        "# Check the distribution of states within each region\n",
        "region_distribution = data_new['Region'].value_counts()\n",
        "\n",
        "# Display the distribution\n",
        "print(region_distribution)\n",
        "'''"
      ]
    },
    {
      "cell_type": "code",
      "execution_count": 16,
      "metadata": {
        "id": "yDTFUP7MniKH",
        "colab": {
          "base_uri": "https://localhost:8080/"
        },
        "outputId": "a542c16c-3920-4fa5-e416-0a5bdaed8c55"
      },
      "outputs": [
        {
          "output_type": "stream",
          "name": "stdout",
          "text": [
            "West         128\n",
            "North         90\n",
            "South         61\n",
            "Central       21\n",
            "East          19\n",
            "Northeast      1\n",
            "Name: Region, dtype: int64\n"
          ]
        }
      ],
      "source": [
        "# Define a function to map states to regions\n",
        "def map_state_to_region(state):\n",
        "    states = state.split(',')\n",
        "    first_state = states[0].strip()  # Get the first state when there are multiple states\n",
        "    return state_to_region.get(first_state, 'Other')  # Use 'Other' if not found in the mapping\n",
        "\n",
        "# Apply the function to create the 'Region' column\n",
        "data_new['Region'] = data_new['Pitchers State'].apply(map_state_to_region)\n",
        "\n",
        "# Check the distribution of states within each region\n",
        "region_distribution = data_new['Region'].value_counts()\n",
        "\n",
        "# Display the distribution\n",
        "print(region_distribution)\n"
      ]
    },
    {
      "cell_type": "code",
      "execution_count": 17,
      "metadata": {
        "id": "-2ckFtmZqGnv",
        "colab": {
          "base_uri": "https://localhost:8080/"
        },
        "outputId": "52f319be-f132-46ab-ecc8-18a14063a68d"
      },
      "outputs": [
        {
          "output_type": "execute_result",
          "data": {
            "text/plain": [
              "West         128\n",
              "North         90\n",
              "South         61\n",
              "Central       21\n",
              "East          19\n",
              "Northeast      1\n",
              "Name: Region, dtype: int64"
            ]
          },
          "metadata": {},
          "execution_count": 17
        }
      ],
      "source": [
        "data_new['Region'].value_counts()"
      ]
    },
    {
      "cell_type": "code",
      "execution_count": 18,
      "metadata": {
        "id": "ECJm1jP6p6nU"
      },
      "outputs": [],
      "source": [
        "data_new['Startup ID'] = pd.factorize(data_new['Startup Name'])[0]"
      ]
    },
    {
      "cell_type": "code",
      "execution_count": 19,
      "metadata": {
        "id": "0whH8AqiqqZq",
        "colab": {
          "base_uri": "https://localhost:8080/"
        },
        "outputId": "641f5bfa-d19a-4eb6-93f1-e56bc190d7eb"
      },
      "outputs": [
        {
          "output_type": "execute_result",
          "data": {
            "text/plain": [
              "Index(['Startup Name', 'Industry', 'Number of Presenters', 'Male Presenters',\n",
              "       'Female Presenters', 'Transgender Presenters', 'Couple Presenters',\n",
              "       'Pitchers Average Age', 'Started in', 'Pitchers State',\n",
              "       'Yearly Revenue', 'Monthly Sales', 'Gross Margin', 'Net Margin',\n",
              "       'Original Ask Amount', 'Original Offered Equity', 'Valuation Requested',\n",
              "       'Received Offer', 'Accepted Offer', 'Total Deal Amount',\n",
              "       'Total Deal Equity', 'Total Deal Debt', 'Debt Interest',\n",
              "       'Deal Valuation', 'Number of sharks in deal', 'Deal has conditions',\n",
              "       'Has Patents', 'Region', 'Startup ID'],\n",
              "      dtype='object')"
            ]
          },
          "metadata": {},
          "execution_count": 19
        }
      ],
      "source": [
        "data_new.columns"
      ]
    },
    {
      "cell_type": "code",
      "execution_count": 20,
      "metadata": {
        "id": "LiofyyC1qp-q",
        "colab": {
          "base_uri": "https://localhost:8080/"
        },
        "outputId": "3a2aa431-0e92-4daf-e587-61b638aa7f51"
      },
      "outputs": [
        {
          "output_type": "execute_result",
          "data": {
            "text/plain": [
              "Index(['Startup Name', 'Industry', 'Pitchers Average Age', 'Pitchers State',\n",
              "       'Deal has conditions', 'Region'],\n",
              "      dtype='object')"
            ]
          },
          "metadata": {},
          "execution_count": 20
        }
      ],
      "source": [
        "data_new.select_dtypes(include=['object']).columns"
      ]
    },
    {
      "cell_type": "code",
      "execution_count": 21,
      "metadata": {
        "id": "oaUnK4aYsTZj"
      },
      "outputs": [],
      "source": [
        "data_encoded = pd.get_dummies(data_new, columns=['Industry', 'Region', 'Deal has conditions'])\n"
      ]
    },
    {
      "cell_type": "code",
      "execution_count": 22,
      "metadata": {
        "id": "q43KmrobqOtU"
      },
      "outputs": [],
      "source": [
        "data_new = pd.get_dummies(data_new, columns=['Industry', 'Region', 'Deal has conditions'])\n",
        "\n",
        "\n"
      ]
    },
    {
      "cell_type": "code",
      "execution_count": 23,
      "metadata": {
        "id": "ivO9GFmHuj-f"
      },
      "outputs": [],
      "source": [
        "from sklearn.preprocessing import LabelEncoder\n",
        "\n",
        "label_encoder = LabelEncoder()\n",
        "\n",
        "# Apply label encoding to the 'Pitchers Average Age' column\n",
        "data_encoded['Pitchers Average Age'] = label_encoder.fit_transform(data_encoded['Pitchers Average Age'])\n"
      ]
    },
    {
      "cell_type": "code",
      "execution_count": 24,
      "metadata": {
        "id": "jvsFiKhpv5kL"
      },
      "outputs": [],
      "source": [
        "\n",
        "data_new['Pitchers Average Age'] = label_encoder.fit_transform(data_new['Pitchers Average Age'])\n"
      ]
    },
    {
      "cell_type": "code",
      "execution_count": 25,
      "metadata": {
        "id": "E-UhCI_OyKWP"
      },
      "outputs": [],
      "source": [
        "\n",
        "def extract_year(value):\n",
        "    try:\n",
        "        # Attempt to extract the year as an integer\n",
        "        year = int(value)\n",
        "        return pd.to_datetime(str(year), format='%Y')\n",
        "    except (ValueError, TypeError):\n",
        "        # Handle non-numeric or invalid values by returning NaN\n",
        "        return pd.NaT\n",
        "\n",
        "data_new['Started in'] = data_new['Started in'].apply(extract_year)\n"
      ]
    },
    {
      "cell_type": "code",
      "execution_count": 26,
      "metadata": {
        "id": "maGQ6zDFyxHb"
      },
      "outputs": [],
      "source": [
        "data_new['Started in'] = data_new['Started in'].dt.year.fillna(0).astype(int)"
      ]
    },
    {
      "cell_type": "code",
      "execution_count": 28,
      "metadata": {
        "id": "A0N3PgRIwSFK"
      },
      "outputs": [],
      "source": [
        "data_new = data_new.drop('Pitchers State', axis = 1)"
      ]
    },
    {
      "cell_type": "code",
      "execution_count": null,
      "metadata": {
        "id": "6FB3B7zqwiCU",
        "colab": {
          "base_uri": "https://localhost:8080/"
        },
        "outputId": "740a78ab-a8b3-4b50-8eec-1d9c5f350e41"
      },
      "outputs": [
        {
          "output_type": "execute_result",
          "data": {
            "text/plain": [
              "Index(['Startup Name', 'Number of Presenters', 'Male Presenters',\n",
              "       'Female Presenters', 'Transgender Presenters', 'Couple Presenters',\n",
              "       'Pitchers Average Age', 'Started in', 'Yearly Revenue', 'Monthly Sales',\n",
              "       'Gross Margin', 'Net Margin', 'Original Ask Amount',\n",
              "       'Original Offered Equity', 'Valuation Requested', 'Received Offer',\n",
              "       'Accepted Offer', 'Total Deal Amount', 'Total Deal Equity',\n",
              "       'Total Deal Debt', 'Debt Interest', 'Deal Valuation',\n",
              "       'Number of sharks in deal', 'Has Patents', 'Startup ID',\n",
              "       'Industry_Agriculture', 'Industry_Animal/Pets',\n",
              "       'Industry_Beauty/Fashion', 'Industry_Education', 'Industry_Electronics',\n",
              "       'Industry_Entertainment', 'Industry_Food',\n",
              "       'Industry_Furnishing/Household', 'Industry_Hardware',\n",
              "       'Industry_Liquor/Beverages', 'Industry_Manufacturing',\n",
              "       'Industry_Medical/Health', 'Industry_Services', 'Industry_Sports',\n",
              "       'Industry_Technology/Software', 'Industry_Vehicles/Electrical Vehicles',\n",
              "       'Region_Central', 'Region_East', 'Region_North', 'Region_Northeast',\n",
              "       'Region_South', 'Region_West', 'Deal has conditions_no',\n",
              "       'Deal has conditions_yes'],\n",
              "      dtype='object')"
            ]
          },
          "metadata": {},
          "execution_count": 91
        }
      ],
      "source": [
        "data_new.columns"
      ]
    },
    {
      "cell_type": "code",
      "execution_count": 31,
      "metadata": {
        "id": "Z451sm2Oxjyk"
      },
      "outputs": [],
      "source": [
        "data_new= data_new.drop('Startup Name', axis = 1)"
      ]
    },
    {
      "cell_type": "code",
      "execution_count": 32,
      "metadata": {
        "id": "s5InovhliinQ"
      },
      "outputs": [],
      "source": [
        "data_new= data_new.drop('Received Offer', axis = 1)"
      ]
    },
    {
      "cell_type": "code",
      "execution_count": 33,
      "metadata": {
        "id": "3unyxfJhi2bf",
        "colab": {
          "base_uri": "https://localhost:8080/"
        },
        "outputId": "64f6d9be-db05-4c58-ef2a-044b90ee7493"
      },
      "outputs": [
        {
          "output_type": "execute_result",
          "data": {
            "text/plain": [
              "Index(['Number of Presenters', 'Male Presenters', 'Female Presenters',\n",
              "       'Transgender Presenters', 'Couple Presenters', 'Pitchers Average Age',\n",
              "       'Started in', 'Yearly Revenue', 'Monthly Sales', 'Gross Margin',\n",
              "       'Net Margin', 'Original Ask Amount', 'Original Offered Equity',\n",
              "       'Valuation Requested', 'Accepted Offer', 'Total Deal Amount',\n",
              "       'Total Deal Equity', 'Total Deal Debt', 'Debt Interest',\n",
              "       'Deal Valuation', 'Number of sharks in deal', 'Has Patents',\n",
              "       'Startup ID', 'Industry_Agriculture', 'Industry_Animal/Pets',\n",
              "       'Industry_Beauty/Fashion', 'Industry_Education', 'Industry_Electronics',\n",
              "       'Industry_Entertainment', 'Industry_Food',\n",
              "       'Industry_Furnishing/Household', 'Industry_Hardware',\n",
              "       'Industry_Liquor/Beverages', 'Industry_Manufacturing',\n",
              "       'Industry_Medical/Health', 'Industry_Services', 'Industry_Sports',\n",
              "       'Industry_Technology/Software', 'Industry_Vehicles/Electrical Vehicles',\n",
              "       'Region_Central', 'Region_East', 'Region_North', 'Region_Northeast',\n",
              "       'Region_South', 'Region_West', 'Deal has conditions_no',\n",
              "       'Deal has conditions_yes'],\n",
              "      dtype='object')"
            ]
          },
          "metadata": {},
          "execution_count": 33
        }
      ],
      "source": [
        "data_new.columns\n"
      ]
    },
    {
      "cell_type": "code",
      "execution_count": 37,
      "metadata": {
        "id": "p3uJ-3kUupYC"
      },
      "outputs": [],
      "source": [
        "X = data_new.drop('Accepted Offer', axis = 1)\n",
        "y = data_new['Accepted Offer']"
      ]
    },
    {
      "cell_type": "code",
      "execution_count": 38,
      "metadata": {
        "id": "fkAOcpUZIOZj"
      },
      "outputs": [],
      "source": [
        "from sklearn.ensemble import RandomForestClassifier"
      ]
    },
    {
      "cell_type": "code",
      "execution_count": 39,
      "metadata": {
        "id": "PhUgI8M7IizN"
      },
      "outputs": [],
      "source": [
        "clf = RandomForestClassifier(max_depth=8, random_state=0)"
      ]
    },
    {
      "cell_type": "code",
      "execution_count": 40,
      "metadata": {
        "id": "pxVn9jG9IpZT"
      },
      "outputs": [],
      "source": [
        "model = clf.fit(X,y)"
      ]
    },
    {
      "cell_type": "code",
      "execution_count": 41,
      "metadata": {
        "id": "cKmlcezgIzSO",
        "colab": {
          "base_uri": "https://localhost:8080/"
        },
        "outputId": "33012847-cf09-4547-900b-fd561be4f7bd"
      },
      "outputs": [
        {
          "output_type": "execute_result",
          "data": {
            "text/plain": [
              "1.0"
            ]
          },
          "metadata": {},
          "execution_count": 41
        }
      ],
      "source": [
        "model.score(X,y)"
      ]
    },
    {
      "cell_type": "code",
      "execution_count": 42,
      "metadata": {
        "id": "dp-JkJqEtW4H",
        "colab": {
          "base_uri": "https://localhost:8080/"
        },
        "outputId": "751e78e4-c378-4dfb-d7eb-071077b74890"
      },
      "outputs": [
        {
          "output_type": "execute_result",
          "data": {
            "text/plain": [
              "['data_preprocessing.joblib']"
            ]
          },
          "metadata": {},
          "execution_count": 42
        }
      ],
      "source": [
        "import joblib\n",
        "\n",
        "# Save the trained model to a file\n",
        "model_filename = 'random_forest_model.joblib'\n",
        "joblib.dump(model, model_filename)\n",
        "\n",
        "# Save the data preprocessing steps to a file\n",
        "preprocessing_filename = 'data_preprocessing.joblib'\n",
        "\n",
        "joblib.dump((label_encoder, data_encoded.columns), preprocessing_filename)\n"
      ]
    },
    {
      "cell_type": "code",
      "execution_count": 43,
      "metadata": {
        "id": "2BZ_uRMozj1t",
        "colab": {
          "base_uri": "https://localhost:8080/",
          "height": 715
        },
        "outputId": "dfdc9d58-6314-46d8-e675-bd4e4e051e66"
      },
      "outputs": [
        {
          "output_type": "stream",
          "name": "stdout",
          "text": [
            "Accuracy: 1.00\n",
            "Classification Report:\n",
            "               precision    recall  f1-score   support\n",
            "\n",
            "           0       1.00      1.00      1.00        26\n",
            "           1       1.00      1.00      1.00        38\n",
            "\n",
            "    accuracy                           1.00        64\n",
            "   macro avg       1.00      1.00      1.00        64\n",
            "weighted avg       1.00      1.00      1.00        64\n",
            "\n",
            "Confusion Matrix:\n",
            " [[26  0]\n",
            " [ 0 38]]\n"
          ]
        },
        {
          "output_type": "display_data",
          "data": {
            "text/plain": [
              "<Figure size 640x480 with 1 Axes>"
            ],
            "image/png": "[encoded data removed]"
          },
          "metadata": {}
        }
      ],
      "source": [
        "from sklearn.model_selection import train_test_split\n",
        "from sklearn.metrics import accuracy_score, classification_report, confusion_matrix, roc_curve, roc_auc_score\n",
        "import matplotlib.pyplot as plt\n",
        "\n",
        "# Split the data into a training set and a testing set\n",
        "X_train, X_test, y_train, y_test = train_test_split(X, y, test_size=0.2, random_state=42)\n",
        "\n",
        "# Train the model on the training data\n",
        "model = clf.fit(X_train, y_train)\n",
        "\n",
        "# Make predictions on the test data\n",
        "y_pred = model.predict(X_test)\n",
        "\n",
        "# Calculate accuracy\n",
        "accuracy = accuracy_score(y_test, y_pred)\n",
        "print(f\"Accuracy: {accuracy:.2f}\")\n",
        "\n",
        "# Generate a classification report\n",
        "class_report = classification_report(y_test, y_pred)\n",
        "print(\"Classification Report:\\n\", class_report)\n",
        "\n",
        "# Create a confusion matrix\n",
        "conf_matrix = confusion_matrix(y_test, y_pred)\n",
        "print(\"Confusion Matrix:\\n\", conf_matrix)\n",
        "\n",
        "# Plot ROC curve and calculate AUC\n",
        "y_probs = model.predict_proba(X_test)[:, 1]\n",
        "fpr, tpr, thresholds = roc_curve(y_test, y_probs)\n",
        "roc_auc = roc_auc_score(y_test, y_probs)\n",
        "\n",
        "plt.figure()\n",
        "plt.plot(fpr, tpr, color='darkorange', lw=2, label=f'ROC curve (AUC = {roc_auc:.2f})')\n",
        "plt.plot([0, 1], [0, 1], color='navy', lw=2, linestyle='--')\n",
        "plt.xlim([0.0, 1.0])\n",
        "plt.ylim([0.0, 1.05])\n",
        "plt.xlabel('False Positive Rate')\n",
        "plt.ylabel('True Positive Rate')\n",
        "plt.title('Receiver Operating Characteristic')\n",
        "plt.legend(loc=\"lower right\")\n",
        "plt.show()\n"
      ]
    },
    {
      "cell_type": "code",
      "execution_count": null,
      "metadata": {
        "id": "PAvu4Fj5-N3r"
      },
      "outputs": [],
      "source": []
    }
  ],
  "metadata": {
    "colab": {
      "provenance": []
    },
    "kernelspec": {
      "display_name": "Python 3",
      "name": "python3"
    },
    "language_info": {
      "name": "python"
    }
  },
  "nbformat": 4,
  "nbformat_minor": 0
}